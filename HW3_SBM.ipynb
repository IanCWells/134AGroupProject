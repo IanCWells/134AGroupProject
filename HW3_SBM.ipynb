{
 "cells": [
  {
   "cell_type": "markdown",
   "metadata": {},
   "source": [
    "### Generating SBM Graphs"
   ]
  },
  {
   "cell_type": "markdown",
   "metadata": {},
   "source": [
    "Random graphs on $N$ vertices are graphs where we select edges according to some probability distribution.\n",
    "In the project, we will use a special type of random graphs, that are generated according to the Stochastic Block Model (SBM) process, described next. "
   ]
  },
  {
   "cell_type": "markdown",
   "metadata": {},
   "source": [
    "In this model, we divide the N nodes into M subgroups of (almost) equal size. We assume that nodes within each subgroup are connected to each other with probability $q_0$. We assume that nodes are connected to nodes in other subgroups with  probability $q_1$. Note that for $q_1$=0 and $q_0=1$  we get disconnected cliques; while for $q_0=q_1$ we  simply get a random Bernoulli graph. "
   ]
  },
  {
   "cell_type": "markdown",
   "metadata": {},
   "source": [
    "We next ask you to write code that generates such graphs, and test \"how well connected\" these graphs are, according to a criterion that we will describe."
   ]
  },
  {
   "cell_type": "markdown",
   "metadata": {},
   "source": [
    "You must implement your own function from scratch. It is prohibited to use packages like NetworkX :) "
   ]
  },
  {
   "cell_type": "markdown",
   "metadata": {},
   "source": [
    "<div class=\"alert alert-warning\">\n",
    "<b>Task 1 </b>  Implement a function that takes $(N,M,q_0,q_1)$ as input and outputs an adjacency matrix of the graph generated from a SBM with the input parameters.\n",
    "</div>"
   ]
  },
  {
   "cell_type": "code",
   "execution_count": 1,
   "metadata": {},
   "outputs": [],
   "source": [
    "import numpy as np"
   ]
  },
  {
   "cell_type": "code",
   "execution_count": 8,
   "metadata": {},
   "outputs": [],
   "source": [
    "def SBM(N,M,q0,q1):\n",
    "    '''This function is designed to generate the Stochastic Block Model.\n",
    "    input params (consistent with the project description):\n",
    "    N (int): the number of individuals\n",
    "    M (int): the number of subgroups\n",
    "    q0 (float): probability of inter-subgroup connection\n",
    "    q1 (float): probability of intra-subgroup connection\n",
    "\n",
    "    output:\n",
    "    G (N*N): adjacency matrix of the generated graph\n",
    "    '''\n",
    "    #################################################\n",
    "    ''' your code here'''\n",
    "    G = np.zeros((N,N), dtype=int)\n",
    "\n",
    "    '''\n",
    "    i % size = index into subgroup\n",
    "    '''\n",
    "\n",
    "    size = round(N/M)\n",
    "    print(\"Group size: \", size)\n",
    "\n",
    "   #  '''\n",
    "    for i in range(N):\n",
    "        i_subgroup = np.floor((i+1)/size)       # which subgroup this index is in\n",
    "        for j in range(N):\n",
    "            if i == j:\n",
    "                continue\n",
    "            \n",
    "            j_subgroup = np.floor((j+1)/size)\n",
    "            \n",
    "            if (j_subgroup == i_subgroup):\n",
    "                connected = np.random.choice([0,1], p=[1-q0, q0])   # for inter-group\n",
    "            else:\n",
    "                connected = np.random.choice([0,1], p=[1-q1, q1])   # for intra-group\n",
    "\n",
    "            G[i][j] = connected\n",
    "            G[j][i] = connected\n",
    "    # '''\n",
    "    #################################################\n",
    "\n",
    "    return G"
   ]
  },
  {
   "cell_type": "code",
   "execution_count": 9,
   "metadata": {},
   "outputs": [
    {
     "name": "stdout",
     "output_type": "stream",
     "text": [
      "Group size:  4\n"
     ]
    },
    {
     "data": {
      "text/plain": [
       "array([[0, 1, 1, 0, 0, 0, 0, 0, 0, 0, 0, 0, 0, 0, 0, 0, 0, 0, 0, 0],\n",
       "       [1, 0, 1, 0, 0, 0, 0, 0, 0, 0, 0, 0, 0, 0, 0, 0, 0, 0, 0, 0],\n",
       "       [1, 1, 0, 0, 0, 0, 0, 0, 0, 0, 0, 0, 0, 0, 0, 0, 0, 0, 0, 0],\n",
       "       [0, 0, 0, 0, 1, 1, 1, 0, 0, 0, 0, 0, 0, 0, 0, 0, 0, 0, 0, 0],\n",
       "       [0, 0, 0, 1, 0, 1, 1, 0, 0, 0, 0, 0, 0, 0, 0, 0, 0, 0, 0, 0],\n",
       "       [0, 0, 0, 1, 1, 0, 1, 0, 0, 0, 0, 0, 0, 0, 0, 0, 0, 0, 0, 0],\n",
       "       [0, 0, 0, 1, 1, 1, 0, 0, 0, 0, 0, 0, 0, 0, 0, 0, 0, 0, 0, 0],\n",
       "       [0, 0, 0, 0, 0, 0, 0, 0, 1, 1, 1, 0, 0, 0, 0, 0, 0, 0, 0, 0],\n",
       "       [0, 0, 0, 0, 0, 0, 0, 1, 0, 1, 1, 0, 0, 0, 0, 0, 0, 0, 0, 0],\n",
       "       [0, 0, 0, 0, 0, 0, 0, 1, 1, 0, 1, 0, 0, 0, 0, 0, 0, 0, 0, 0],\n",
       "       [0, 0, 0, 0, 0, 0, 0, 1, 1, 1, 0, 0, 0, 0, 0, 0, 0, 0, 0, 0],\n",
       "       [0, 0, 0, 0, 0, 0, 0, 0, 0, 0, 0, 0, 1, 1, 1, 0, 0, 0, 0, 0],\n",
       "       [0, 0, 0, 0, 0, 0, 0, 0, 0, 0, 0, 1, 0, 1, 1, 0, 0, 0, 0, 0],\n",
       "       [0, 0, 0, 0, 0, 0, 0, 0, 0, 0, 0, 1, 1, 0, 1, 0, 0, 0, 0, 0],\n",
       "       [0, 0, 0, 0, 0, 0, 0, 0, 0, 0, 0, 1, 1, 1, 0, 0, 0, 0, 0, 0],\n",
       "       [0, 0, 0, 0, 0, 0, 0, 0, 0, 0, 0, 0, 0, 0, 0, 0, 1, 1, 1, 0],\n",
       "       [0, 0, 0, 0, 0, 0, 0, 0, 0, 0, 0, 0, 0, 0, 0, 1, 0, 1, 1, 0],\n",
       "       [0, 0, 0, 0, 0, 0, 0, 0, 0, 0, 0, 0, 0, 0, 0, 1, 1, 0, 1, 0],\n",
       "       [0, 0, 0, 0, 0, 0, 0, 0, 0, 0, 0, 0, 0, 0, 0, 1, 1, 1, 0, 0],\n",
       "       [0, 0, 0, 0, 0, 0, 0, 0, 0, 0, 0, 0, 0, 0, 0, 0, 0, 0, 0, 0]])"
      ]
     },
     "execution_count": 9,
     "metadata": {},
     "output_type": "execute_result"
    }
   ],
   "source": [
    "N = 20\n",
    "M = 5\n",
    "q0 = 1\n",
    "q1 = 0\n",
    "\n",
    "SBM(N, M, q0, q1)"
   ]
  },
  {
   "cell_type": "markdown",
   "metadata": {},
   "source": [
    "For each node $i$ in a graph, we can define the  {\\bf local clustering coefficient $C_i$} as\n",
    "    $C_i = \\frac{2\\left| e_{jk}:v_j,v_k \\in N_i\\right|}{k_i(k_i-1)}$ with $N_i :=\\{v_j\\in \\mathcal{V}: e_{ij} \\in E \\lor e_{ji} \\in E\\}$ the neighborhood of node $i$ and $k_i$ the degree of node $i$. The clustering coefficient captures how well-connected is the neighborhood of a node (if it is close to a complete subgraph or not).\n",
    "The {\\bf average clustering coefficient}  is simply the average value over all the nodes $i$. \n"
   ]
  },
  {
   "cell_type": "code",
   "execution_count": null,
   "metadata": {},
   "outputs": [],
   "source": []
  },
  {
   "cell_type": "markdown",
   "metadata": {},
   "source": [
    "In this task, we want to investigate how the average clustering coefficient changes as SBM parameters change.\n",
    "\n",
    "In particular, for $q_1=[0.1, 0.2, 0.3]$, we want to explore  how  the average clustering coefficient changes as $q_0$ changes from $0.3$ to $0.99$. Create a figure where the y axis is the average clustering coefficient, the x axis the $q_0$ values, and you show three plots corresponding to the three $q_1$ values. Comment on the results (are they as expected?) \n",
    "For your experiments, assume $N=1000$, and $M=10$. "
   ]
  },
  {
   "cell_type": "markdown",
   "metadata": {},
   "source": [
    "<div class=\"alert alert-warning\">\n",
    "<b>Task 2 </b>  Plot the curves of how the average clustering coefficients change with the parameters and comment on the results. \n",
    "</div>"
   ]
  },
  {
   "cell_type": "code",
   "execution_count": null,
   "metadata": {},
   "outputs": [],
   "source": []
  },
  {
   "cell_type": "code",
   "execution_count": null,
   "metadata": {},
   "outputs": [],
   "source": []
  }
 ],
 "metadata": {
  "kernelspec": {
   "display_name": "Python 3",
   "language": "python",
   "name": "python3"
  },
  "language_info": {
   "codemirror_mode": {
    "name": "ipython",
    "version": 3
   },
   "file_extension": ".py",
   "mimetype": "text/x-python",
   "name": "python",
   "nbconvert_exporter": "python",
   "pygments_lexer": "ipython3",
   "version": "3.12.1"
  }
 },
 "nbformat": 4,
 "nbformat_minor": 4
}
