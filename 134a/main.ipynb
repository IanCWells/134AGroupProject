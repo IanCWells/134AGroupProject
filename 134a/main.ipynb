{
 "cells": [
  {
   "cell_type": "code",
   "execution_count": null,
   "metadata": {},
   "outputs": [],
   "source": [
    "import os\n",
    "import pickle\n",
    "import numpy as np\n",
    "\n",
    "from algos import *\n",
    "from infect import infect\n",
    "from sbm import SBM"
   ]
  },
  {
   "cell_type": "code",
   "execution_count": null,
   "metadata": {},
   "outputs": [],
   "source": [
    "def iter(N,M,q0,q1,p0,p1,time_steps,num_sims,method,dataset='sbm'):\n",
    "\n",
    "    name = dataset+'N'+str(N)+'_M'+str(M)+'_SIM'+str(num_sims)+'_step'+str(time_steps)+'_q0'+str(q0)+'_q1'+str(q1)+'_p0'+str(p0)+'_p1'+str(p1)+method+'graphs.pkl'\n",
    "    if not os.path.isfile(name):\n",
    "        print('Generating synthetic dataset!')\n",
    "        Gs = np.zeros((num_sims,N,N))\n",
    "        Communities = dict()\n",
    "        data = dict()\n",
    "        Individuals = dict()\n",
    "        if dataset=='sbm':\n",
    "            for i in range(num_sims):\n",
    "                Gs[i] = SBM(N,M,q0,q1)\n",
    "                ###################################################\n",
    "                '''your code here'''\n",
    "                communities = []\n",
    "                ###################################################\n",
    "                Communities[i] = communities\n",
    "                Individuals[i] = infect(Gs[i],p0,p1,time_steps)\n",
    "        elif dataset=='iid':\n",
    "            for i in range(num_sims):\n",
    "                ###################################################\n",
    "                '''your code here'''\n",
    "                # Individuals[i] = \n",
    "                # Communities[i] =[[all individuals]]\n",
    "                ###################################################\n",
    "        data['graph'] = Gs\n",
    "        data['communities'] = Communities\n",
    "        data['individuals'] = Individuals\n",
    "        with open(name, 'wb') as infile:\n",
    "            pickle.dump(data,infile) \n",
    "    #         print('Dataset done!')\n",
    "\n",
    "\n",
    "    ###################################################\n",
    "    '''your code for initialization parameters if needed''' \n",
    "    fraction_ppl = 0\n",
    "    fraction_family = 0\n",
    "    fraction_ppl_in_family = 0\n",
    "    #num_tests = \n",
    "    #num_stages = \n",
    "    ###################################################\n",
    "        \n",
    "    if os.path.isfile(name):\n",
    "        with open(name, 'rb') as infile:\n",
    "            data = pickle.load(infile) \n",
    "        print('Data loaded!')\n",
    "    for i in range(num_sims):\n",
    "        if dataset=='synthetic':\n",
    "            G = data['graph'][i]\n",
    "            communities = data['communities'][i]\n",
    "            individuals = data['individuals'][i]\n",
    "        ###################################################\n",
    "        '''your code to calculate the statistics here''' \n",
    "\n",
    "        \n",
    "        ###################################################\n",
    "\n",
    "        # interleave the individuals\n",
    "        s = individuals.copy()\n",
    "        np.random.shuffle(s)\n",
    "        # binary\n",
    "        numtests_bs, num_stages_bs, _ = binary_splitting(s)\n",
    "        # algorithm 1\n",
    "        numtests_q1, num_stages_q1 = Qtesting1(s)\n",
    "        # algorithm 2\n",
    "        numtests_q2, num_stages_q2 = Qtesting2(s)\n",
    "        # community-aware\n",
    "        numtests_q1_c, num_stages_q1_c = Qtesting1_comm_aware(individuals.copy(),communities)\n",
    "        # community-aware\n",
    "        numtests_q2_c, num_stages_q2_c = Qtesting2_comm_aware(individuals.copy(),communities)\n",
    "\n",
    "    ###################################################\n",
    "    '''your code to calculate the statistics here''' \n",
    "    '''Do not forget to take the average'''\n",
    "\n",
    "    ###################################################\n",
    "            \n",
    "\n",
    "    return fraction_ppl, fraction_family, fraction_ppl_in_family, num_tests, num_stages"
   ]
  },
  {
   "cell_type": "markdown",
   "metadata": {},
   "source": [
    "<div class=\"alert alert-warning\">\n",
    "<b>Task 1 </b> \n",
    "Plot how the fraction of infected people, the percentage of infected communities, and the average percentage of infected people in each community change with the each setting for the synthetic dataset described in the following table and comment on the results. Average over at least $100$ SBM network realization.     \n",
    "\n",
    "</div>"
   ]
  },
  {
   "cell_type": "markdown",
   "metadata": {},
   "source": [
    "| N | M | q0, q1 | p0 | p1 |time steps  |\n",
    "|---|---|--------|----|----|------------|\n",
    "|256| 16| (1,0)  |0.001|[0.05:1]|2|\n",
    "|   | 16|(0.9, 0.1)  | 0.001| [0.05:1]|2     |\n",
    "|   | 16 |(0.5, 0.2)  | 0.001| [0.05:1]|2     |"
   ]
  },
  {
   "cell_type": "code",
   "execution_count": null,
   "metadata": {},
   "outputs": [],
   "source": []
  },
  {
   "cell_type": "markdown",
   "metadata": {},
   "source": [
    "Consider $N=256$, and $M=16,64,128$. Use SBM with $q0=1$ and $q1=0$ to generate contact networks (disconnected cliques). For the infection model, use $p_0 = 0.001$ and $p_1 = [0.01:1]$ and the number of infection steps as $2$ . \n",
    "Average over 100 SBM network realizations."
   ]
  },
  {
   "cell_type": "markdown",
   "metadata": {},
   "source": [
    "<div class=\"alert alert-warning\">\n",
    "<b>Task 2 </b> \n",
    "Provide plots for i.i.d. infection probability that ranges from $p=0.01$ to $p=0.3$, and $N=256$.\n",
    "Compare the performance of tests $T_1$, $T_2$, and binary output tests. Do you observe a consistent performance? Can you explain your results? \n",
    "    \n",
    "</div>"
   ]
  },
  {
   "cell_type": "code",
   "execution_count": null,
   "metadata": {},
   "outputs": [],
   "source": []
  },
  {
   "cell_type": "markdown",
   "metadata": {},
   "source": [
    "<div class=\"alert alert-warning\">\n",
    "<b>Task 3 </b>  \n",
    "Provide plots that compare the performance of various testing techniques on the Stochastic Block Model (SBM) using the settings outlined in Table 2 and on real data. You may explore additional settings that could reveal significant insights for your custom algorithms. Interpret and explain the results you obtain. Your plots should include: (i) a plot demonstrating how the performance of different testing schemes varies as the family sizes change, (ii)a plot demonstrating how the performance of different testing schemes varies as the infection probability changes and (iii) a plot illustrating how infections concentrate within families in the SBM.\n",
    "</div>"
   ]
  },
  {
   "cell_type": "markdown",
   "metadata": {},
   "source": [
    "| N | M | q0, q1 | p0 | p1 |time steps  |\n",
    "|---|---|--------|----|----|------------|\n",
    "|256| 16| (0.9,0.1)  |0.001|[0.05:1]|2|\n",
    "|   | 64|(1, 0)  | 0.001| [0.05:1]|2     |\n",
    "|   | 64|(0.9, 0.1)  | 0.001| [0.05:1]|2     |\n",
    "|   | 64|(0.5, 0.2)  | 0.001| [0.05:1]|2     |\n",
    "|   | 128 |(0.9, 0.1)  | 0.001| [0.05:1]|2     |\n"
   ]
  },
  {
   "cell_type": "code",
   "execution_count": null,
   "metadata": {},
   "outputs": [],
   "source": [
    "N = 256\n",
    "M = 16\n",
    "q0 = 0.5\n",
    "q1 = 0.3\n",
    "\n",
    "time_steps = 2\n",
    "method = 'your method'"
   ]
  },
  {
   "cell_type": "code",
   "execution_count": null,
   "metadata": {},
   "outputs": [],
   "source": [
    "# the simulation \n",
    "t = 10\n",
    "fraction_infected_ppl = np.zeros(t)\n",
    "fraction_infected_clc = np.zeros(t)\n",
    "fraction_infected_family = np.zeros(t)\n",
    "num_tests = np.zeros((t,3))\n",
    "num_stages = np.zeros((t,3))\n",
    "p0 = 0.001\n",
    "num_sims = 100\n",
    "for j in range(1,t+1):\n",
    "    p1 = j/t\n",
    "    fraction_ppl[j-1], fraction_clc[j-1], fraction_plp_in_clc[j-1], num_tests[j-1], num_stages[j-1]= iter(N,M,q0,q1,p0,p1,time_steps,num_sims,method,dataset='sbm')  \n",
    "       "
   ]
  },
  {
   "cell_type": "code",
   "execution_count": null,
   "metadata": {},
   "outputs": [],
   "source": [
    "p1s = np.arange(1,t+1)/t"
   ]
  },
  {
   "cell_type": "code",
   "execution_count": null,
   "metadata": {
    "scrolled": true
   },
   "outputs": [],
   "source": [
    "plt.figure(figsize=(6, 4), dpi=300)\n",
    "plt.rcParams.update({\n",
    "    'font.size': 12,\n",
    "    'font.family': 'sans-serif',\n",
    "    'font.sans-serif': 'Arial',\n",
    "    'axes.labelsize': 12,\n",
    "    'xtick.labelsize': 10,\n",
    "    'ytick.labelsize': 10\n",
    "})\n",
    "markers = ['.', ',','o','v','^','<','>']\n",
    "   \n",
    "plt.plot(p1s,num_tests[:,i],label='binary splitting',marker=markers[i])\n",
    "#########your code here###########\n",
    "\n",
    "plt.xlabel('Transmission probability: p1',fontsize=14)\n",
    "plt.ylabel('Expected number of tests',fontsize=14)\n",
    "plt.legend()\n",
    "plt.grid(True, linestyle='--', linewidth=0.5, color='gray', alpha=0.5)\n",
    "plt.legend(frameon=False, loc='best')\n",
    "plt.tight_layout()\n",
    "fig_name = 'RES_N'+str(N)+'_M'+str(M)+'SIM'+str(num_sims)+'step_'+str(time_steps)+'q0'+str(q0)+'q1'+str(q1)+'p0'+str(p0)+method+'GT.pdf'\n",
    "plt.savefig(fig_name, format='pdf', bbox_inches='tight')"
   ]
  },
  {
   "cell_type": "code",
   "execution_count": null,
   "metadata": {},
   "outputs": [],
   "source": [
    "plt.plot(p1s,fraction_ppl,label='Fraction of infected people')\n",
    "plt.plot(p1s,fraction_clc,label='Fraction of infected communities')\n",
    "plt.plot(p1s,fraction_plp_in_clc,label='Fraction of infected people in each community')\n",
    "plt.xlabel('Transmission probability: p1',fontsize=14)\n",
    "plt.ylabel('Infection stats',fontsize=14)\n",
    "plt.legend()\n",
    "plt.savefig('RES_N'+str(N)+'_M'+str(M)+'SIM'+str(num_sims)+'step_'+str(time_steps)+'q0'+str(q0)+'q1'+str(q1)+'p0'+str(p0)+method+'stats.pdf')"
   ]
  },
  {
   "cell_type": "code",
   "execution_count": null,
   "metadata": {},
   "outputs": [],
   "source": []
  }
 ],
 "metadata": {
  "kernelspec": {
   "display_name": "Python 3",
   "language": "python",
   "name": "python3"
  },
  "language_info": {
   "codemirror_mode": {
    "name": "ipython",
    "version": 3
   },
   "file_extension": ".py",
   "mimetype": "text/x-python",
   "name": "python",
   "nbconvert_exporter": "python",
   "pygments_lexer": "ipython3",
   "version": "3.8.3"
  }
 },
 "nbformat": 4,
 "nbformat_minor": 4
}
